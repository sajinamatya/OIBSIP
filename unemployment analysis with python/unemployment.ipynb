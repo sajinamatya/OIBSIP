{
 "cells": [
  {
   "cell_type": "markdown",
   "id": "4fb7fcc9",
   "metadata": {
    "ExecuteTime": {
     "end_time": "2023-09-06T12:42:57.401275700Z",
     "start_time": "2023-09-06T12:42:57.323485200Z"
    }
   },
   "source": [
    "# 1) Importing  the necessary libraries for data analysis \n"
   ]
  },
  {
   "cell_type": "code",
   "execution_count": null,
   "id": "d980d6b4",
   "metadata": {},
   "outputs": [],
   "source": [
    "import pandas as pd \n",
    "import matplotlib.pyplot as plt \n",
    "import seaborn as sns \n",
    "import numpy as np "
   ]
  },
  {
   "cell_type": "markdown",
   "id": "a45a46c8",
   "metadata": {},
   "source": [
    "# Printing out the first 20 rows of the data frame "
   ]
  },
  {
   "cell_type": "code",
   "execution_count": 2,
   "id": "ed54b611dfa9a1e2",
   "metadata": {
    "ExecuteTime": {
     "end_time": "2023-09-06T12:42:57.476076300Z",
     "start_time": "2023-09-06T12:42:57.343430400Z"
    }
   },
   "outputs": [
    {
     "name": "stdout",
     "output_type": "stream",
     "text": [
      "            Region         Date  Frequency   Estimated Unemployment Rate (%)  \\\n",
      "0   Andhra Pradesh   31-05-2019    Monthly                              3.65   \n",
      "1   Andhra Pradesh   30-06-2019    Monthly                              3.05   \n",
      "2   Andhra Pradesh   31-07-2019    Monthly                              3.75   \n",
      "3   Andhra Pradesh   31-08-2019    Monthly                              3.32   \n",
      "4   Andhra Pradesh   30-09-2019    Monthly                              5.17   \n",
      "5   Andhra Pradesh   31-10-2019    Monthly                              3.52   \n",
      "6   Andhra Pradesh   30-11-2019    Monthly                              4.12   \n",
      "7   Andhra Pradesh   31-12-2019    Monthly                              4.38   \n",
      "8   Andhra Pradesh   31-01-2020    Monthly                              4.84   \n",
      "9   Andhra Pradesh   29-02-2020    Monthly                              5.91   \n",
      "10  Andhra Pradesh   31-03-2020    Monthly                              4.06   \n",
      "11  Andhra Pradesh   30-04-2020    Monthly                             16.29   \n",
      "12  Andhra Pradesh   31-05-2020    Monthly                             14.46   \n",
      "13  Andhra Pradesh   30-06-2020    Monthly                              0.85   \n",
      "14           Assam   31-05-2019    Monthly                              4.29   \n",
      "15           Assam   30-06-2019    Monthly                              5.08   \n",
      "16           Assam   31-07-2019    Monthly                              4.26   \n",
      "17           Assam   31-08-2019    Monthly                              5.79   \n",
      "18           Assam   30-09-2019    Monthly                              4.46   \n",
      "19           Assam   31-10-2019    Monthly                              4.65   \n",
      "\n",
      "     Estimated Employed   Estimated Labour Participation Rate (%)   Area  \n",
      "0            11999139.0                                     43.24  Rural  \n",
      "1            11755881.0                                     42.05  Rural  \n",
      "2            12086707.0                                     43.50  Rural  \n",
      "3            12285693.0                                     43.97  Rural  \n",
      "4            12256762.0                                     44.68  Rural  \n",
      "5            12017412.0                                     43.01  Rural  \n",
      "6            11397681.0                                     41.00  Rural  \n",
      "7            12528395.0                                     45.14  Rural  \n",
      "8            12016676.0                                     43.46  Rural  \n",
      "9            11723617.0                                     42.83  Rural  \n",
      "10           11359660.0                                     40.66  Rural  \n",
      "11            8792827.0                                     36.03  Rural  \n",
      "12            9526902.0                                     38.16  Rural  \n",
      "13           15572975.0                                     53.76  Rural  \n",
      "14           11749334.0                                     57.39  Rural  \n",
      "15            8923222.0                                     43.87  Rural  \n",
      "16            9911534.0                                     48.21  Rural  \n",
      "17            9292039.0                                     45.83  Rural  \n",
      "18           11468349.0                                     55.67  Rural  \n",
      "19            8395906.0                                     40.76  Rural  \n"
     ]
    }
   ],
   "source": [
    "data = pd.read_csv(\"Unemployment.csv\")\n",
    "print(data.head(20))"
   ]
  },
  {
   "cell_type": "markdown",
   "id": "c5ad1814",
   "metadata": {},
   "source": [
    "# Printing out the last rows of the Dataframe "
   ]
  },
  {
   "cell_type": "code",
   "execution_count": 3,
   "id": "85f6e19ca69583ba",
   "metadata": {
    "ExecuteTime": {
     "end_time": "2023-09-06T12:42:57.493030200Z",
     "start_time": "2023-09-06T12:42:57.441169500Z"
    }
   },
   "outputs": [
    {
     "name": "stdout",
     "output_type": "stream",
     "text": [
      "    Region  Date  Frequency   Estimated Unemployment Rate (%)  \\\n",
      "763    NaN   NaN        NaN                               NaN   \n",
      "764    NaN   NaN        NaN                               NaN   \n",
      "765    NaN   NaN        NaN                               NaN   \n",
      "766    NaN   NaN        NaN                               NaN   \n",
      "767    NaN   NaN        NaN                               NaN   \n",
      "\n",
      "      Estimated Employed   Estimated Labour Participation Rate (%) Area  \n",
      "763                  NaN                                       NaN  NaN  \n",
      "764                  NaN                                       NaN  NaN  \n",
      "765                  NaN                                       NaN  NaN  \n",
      "766                  NaN                                       NaN  NaN  \n",
      "767                  NaN                                       NaN  NaN  \n"
     ]
    }
   ],
   "source": [
    "print(data.tail())"
   ]
  },
  {
   "cell_type": "markdown",
   "id": "96b9a467",
   "metadata": {},
   "source": [
    "# Inspecting the datatype of each column of the Dataframe "
   ]
  },
  {
   "cell_type": "code",
   "execution_count": 4,
   "id": "c955a1d820e50a1b",
   "metadata": {
    "ExecuteTime": {
     "end_time": "2023-09-06T12:42:57.599744600Z",
     "start_time": "2023-09-06T12:42:57.487046500Z"
    }
   },
   "outputs": [
    {
     "data": {
      "text/plain": [
       "Region                                       object\n",
       " Date                                        object\n",
       " Frequency                                   object\n",
       " Estimated Unemployment Rate (%)            float64\n",
       " Estimated Employed                         float64\n",
       " Estimated Labour Participation Rate (%)    float64\n",
       "Area                                         object\n",
       "dtype: object"
      ]
     },
     "execution_count": 4,
     "metadata": {},
     "output_type": "execute_result"
    }
   ],
   "source": [
    "data.dtypes"
   ]
  },
  {
   "cell_type": "markdown",
   "id": "0499ba4f",
   "metadata": {},
   "source": [
    "# Printing out the information about the Dataframe "
   ]
  },
  {
   "cell_type": "code",
   "execution_count": 5,
   "id": "a4b7eeac13e59c4",
   "metadata": {
    "ExecuteTime": {
     "end_time": "2023-09-06T12:44:23.246253200Z",
     "start_time": "2023-09-06T12:44:23.214339100Z"
    }
   },
   "outputs": [
    {
     "name": "stdout",
     "output_type": "stream",
     "text": [
      "<class 'pandas.core.frame.DataFrame'>\n",
      "RangeIndex: 768 entries, 0 to 767\n",
      "Data columns (total 7 columns):\n",
      " #   Column                                    Non-Null Count  Dtype  \n",
      "---  ------                                    --------------  -----  \n",
      " 0   Region                                    740 non-null    object \n",
      " 1    Date                                     740 non-null    object \n",
      " 2    Frequency                                740 non-null    object \n",
      " 3    Estimated Unemployment Rate (%)          740 non-null    float64\n",
      " 4    Estimated Employed                       740 non-null    float64\n",
      " 5    Estimated Labour Participation Rate (%)  740 non-null    float64\n",
      " 6   Area                                      740 non-null    object \n",
      "dtypes: float64(3), object(4)\n",
      "memory usage: 42.1+ KB\n"
     ]
    }
   ],
   "source": [
    "data.info()\n"
   ]
  },
  {
   "cell_type": "markdown",
   "id": "e916cd0d",
   "metadata": {},
   "source": [
    "# Statistical Summary of the column with numeric datatype "
   ]
  },
  {
   "cell_type": "code",
   "execution_count": 6,
   "id": "f92d58bcc0724f73",
   "metadata": {
    "ExecuteTime": {
     "end_time": "2023-09-06T12:44:29.472598900Z",
     "start_time": "2023-09-06T12:44:29.390817900Z"
    }
   },
   "outputs": [
    {
     "data": {
      "text/html": [
       "<div>\n",
       "<style scoped>\n",
       "    .dataframe tbody tr th:only-of-type {\n",
       "        vertical-align: middle;\n",
       "    }\n",
       "\n",
       "    .dataframe tbody tr th {\n",
       "        vertical-align: top;\n",
       "    }\n",
       "\n",
       "    .dataframe thead th {\n",
       "        text-align: right;\n",
       "    }\n",
       "</style>\n",
       "<table border=\"1\" class=\"dataframe\">\n",
       "  <thead>\n",
       "    <tr style=\"text-align: right;\">\n",
       "      <th></th>\n",
       "      <th>Estimated Unemployment Rate (%)</th>\n",
       "      <th>Estimated Employed</th>\n",
       "      <th>Estimated Labour Participation Rate (%)</th>\n",
       "    </tr>\n",
       "  </thead>\n",
       "  <tbody>\n",
       "    <tr>\n",
       "      <th>count</th>\n",
       "      <td>740.000000</td>\n",
       "      <td>7.400000e+02</td>\n",
       "      <td>740.000000</td>\n",
       "    </tr>\n",
       "    <tr>\n",
       "      <th>mean</th>\n",
       "      <td>11.787946</td>\n",
       "      <td>7.204460e+06</td>\n",
       "      <td>42.630122</td>\n",
       "    </tr>\n",
       "    <tr>\n",
       "      <th>std</th>\n",
       "      <td>10.721298</td>\n",
       "      <td>8.087988e+06</td>\n",
       "      <td>8.111094</td>\n",
       "    </tr>\n",
       "    <tr>\n",
       "      <th>min</th>\n",
       "      <td>0.000000</td>\n",
       "      <td>4.942000e+04</td>\n",
       "      <td>13.330000</td>\n",
       "    </tr>\n",
       "    <tr>\n",
       "      <th>25%</th>\n",
       "      <td>4.657500</td>\n",
       "      <td>1.190404e+06</td>\n",
       "      <td>38.062500</td>\n",
       "    </tr>\n",
       "    <tr>\n",
       "      <th>50%</th>\n",
       "      <td>8.350000</td>\n",
       "      <td>4.744178e+06</td>\n",
       "      <td>41.160000</td>\n",
       "    </tr>\n",
       "    <tr>\n",
       "      <th>75%</th>\n",
       "      <td>15.887500</td>\n",
       "      <td>1.127549e+07</td>\n",
       "      <td>45.505000</td>\n",
       "    </tr>\n",
       "    <tr>\n",
       "      <th>max</th>\n",
       "      <td>76.740000</td>\n",
       "      <td>4.577751e+07</td>\n",
       "      <td>72.570000</td>\n",
       "    </tr>\n",
       "  </tbody>\n",
       "</table>\n",
       "</div>"
      ],
      "text/plain": [
       "        Estimated Unemployment Rate (%)   Estimated Employed  \\\n",
       "count                        740.000000         7.400000e+02   \n",
       "mean                          11.787946         7.204460e+06   \n",
       "std                           10.721298         8.087988e+06   \n",
       "min                            0.000000         4.942000e+04   \n",
       "25%                            4.657500         1.190404e+06   \n",
       "50%                            8.350000         4.744178e+06   \n",
       "75%                           15.887500         1.127549e+07   \n",
       "max                           76.740000         4.577751e+07   \n",
       "\n",
       "        Estimated Labour Participation Rate (%)  \n",
       "count                                740.000000  \n",
       "mean                                  42.630122  \n",
       "std                                    8.111094  \n",
       "min                                   13.330000  \n",
       "25%                                   38.062500  \n",
       "50%                                   41.160000  \n",
       "75%                                   45.505000  \n",
       "max                                   72.570000  "
      ]
     },
     "execution_count": 6,
     "metadata": {},
     "output_type": "execute_result"
    }
   ],
   "source": [
    "data.describe()"
   ]
  },
  {
   "cell_type": "markdown",
   "id": "e82e7d8c",
   "metadata": {},
   "source": [
    "# Inspection of missing value in Dataframe"
   ]
  },
  {
   "cell_type": "code",
   "execution_count": 7,
   "id": "b13eb048ef67869f",
   "metadata": {
    "ExecuteTime": {
     "end_time": "2023-09-06T12:44:55.468231600Z",
     "start_time": "2023-09-06T12:44:55.433320900Z"
    }
   },
   "outputs": [
    {
     "data": {
      "text/plain": [
       "Region                                      28\n",
       " Date                                       28\n",
       " Frequency                                  28\n",
       " Estimated Unemployment Rate (%)            28\n",
       " Estimated Employed                         28\n",
       " Estimated Labour Participation Rate (%)    28\n",
       "Area                                        28\n",
       "dtype: int64"
      ]
     },
     "execution_count": 7,
     "metadata": {},
     "output_type": "execute_result"
    }
   ],
   "source": [
    "#checking the total number of null values in each column of dataframe \n",
    "data.isna().sum()"
   ]
  },
  {
   "cell_type": "markdown",
   "id": "d19db8db",
   "metadata": {},
   "source": [
    "# Printing out the rows with missing values "
   ]
  },
  {
   "cell_type": "code",
   "execution_count": 8,
   "id": "184e09b55343b3a8",
   "metadata": {
    "ExecuteTime": {
     "end_time": "2023-09-06T12:57:13.023327700Z",
     "start_time": "2023-09-06T12:57:12.986419500Z"
    }
   },
   "outputs": [
    {
     "data": {
      "text/html": [
       "<div>\n",
       "<style scoped>\n",
       "    .dataframe tbody tr th:only-of-type {\n",
       "        vertical-align: middle;\n",
       "    }\n",
       "\n",
       "    .dataframe tbody tr th {\n",
       "        vertical-align: top;\n",
       "    }\n",
       "\n",
       "    .dataframe thead th {\n",
       "        text-align: right;\n",
       "    }\n",
       "</style>\n",
       "<table border=\"1\" class=\"dataframe\">\n",
       "  <thead>\n",
       "    <tr style=\"text-align: right;\">\n",
       "      <th></th>\n",
       "      <th>Region</th>\n",
       "      <th>Date</th>\n",
       "      <th>Frequency</th>\n",
       "      <th>Estimated Unemployment Rate (%)</th>\n",
       "      <th>Estimated Employed</th>\n",
       "      <th>Estimated Labour Participation Rate (%)</th>\n",
       "      <th>Area</th>\n",
       "    </tr>\n",
       "  </thead>\n",
       "  <tbody>\n",
       "    <tr>\n",
       "      <th>359</th>\n",
       "      <td>NaN</td>\n",
       "      <td>NaN</td>\n",
       "      <td>NaN</td>\n",
       "      <td>NaN</td>\n",
       "      <td>NaN</td>\n",
       "      <td>NaN</td>\n",
       "      <td>NaN</td>\n",
       "    </tr>\n",
       "    <tr>\n",
       "      <th>360</th>\n",
       "      <td>NaN</td>\n",
       "      <td>NaN</td>\n",
       "      <td>NaN</td>\n",
       "      <td>NaN</td>\n",
       "      <td>NaN</td>\n",
       "      <td>NaN</td>\n",
       "      <td>NaN</td>\n",
       "    </tr>\n",
       "    <tr>\n",
       "      <th>361</th>\n",
       "      <td>NaN</td>\n",
       "      <td>NaN</td>\n",
       "      <td>NaN</td>\n",
       "      <td>NaN</td>\n",
       "      <td>NaN</td>\n",
       "      <td>NaN</td>\n",
       "      <td>NaN</td>\n",
       "    </tr>\n",
       "    <tr>\n",
       "      <th>362</th>\n",
       "      <td>NaN</td>\n",
       "      <td>NaN</td>\n",
       "      <td>NaN</td>\n",
       "      <td>NaN</td>\n",
       "      <td>NaN</td>\n",
       "      <td>NaN</td>\n",
       "      <td>NaN</td>\n",
       "    </tr>\n",
       "    <tr>\n",
       "      <th>363</th>\n",
       "      <td>NaN</td>\n",
       "      <td>NaN</td>\n",
       "      <td>NaN</td>\n",
       "      <td>NaN</td>\n",
       "      <td>NaN</td>\n",
       "      <td>NaN</td>\n",
       "      <td>NaN</td>\n",
       "    </tr>\n",
       "    <tr>\n",
       "      <th>364</th>\n",
       "      <td>NaN</td>\n",
       "      <td>NaN</td>\n",
       "      <td>NaN</td>\n",
       "      <td>NaN</td>\n",
       "      <td>NaN</td>\n",
       "      <td>NaN</td>\n",
       "      <td>NaN</td>\n",
       "    </tr>\n",
       "    <tr>\n",
       "      <th>365</th>\n",
       "      <td>NaN</td>\n",
       "      <td>NaN</td>\n",
       "      <td>NaN</td>\n",
       "      <td>NaN</td>\n",
       "      <td>NaN</td>\n",
       "      <td>NaN</td>\n",
       "      <td>NaN</td>\n",
       "    </tr>\n",
       "    <tr>\n",
       "      <th>366</th>\n",
       "      <td>NaN</td>\n",
       "      <td>NaN</td>\n",
       "      <td>NaN</td>\n",
       "      <td>NaN</td>\n",
       "      <td>NaN</td>\n",
       "      <td>NaN</td>\n",
       "      <td>NaN</td>\n",
       "    </tr>\n",
       "    <tr>\n",
       "      <th>367</th>\n",
       "      <td>NaN</td>\n",
       "      <td>NaN</td>\n",
       "      <td>NaN</td>\n",
       "      <td>NaN</td>\n",
       "      <td>NaN</td>\n",
       "      <td>NaN</td>\n",
       "      <td>NaN</td>\n",
       "    </tr>\n",
       "    <tr>\n",
       "      <th>368</th>\n",
       "      <td>NaN</td>\n",
       "      <td>NaN</td>\n",
       "      <td>NaN</td>\n",
       "      <td>NaN</td>\n",
       "      <td>NaN</td>\n",
       "      <td>NaN</td>\n",
       "      <td>NaN</td>\n",
       "    </tr>\n",
       "    <tr>\n",
       "      <th>369</th>\n",
       "      <td>NaN</td>\n",
       "      <td>NaN</td>\n",
       "      <td>NaN</td>\n",
       "      <td>NaN</td>\n",
       "      <td>NaN</td>\n",
       "      <td>NaN</td>\n",
       "      <td>NaN</td>\n",
       "    </tr>\n",
       "    <tr>\n",
       "      <th>370</th>\n",
       "      <td>NaN</td>\n",
       "      <td>NaN</td>\n",
       "      <td>NaN</td>\n",
       "      <td>NaN</td>\n",
       "      <td>NaN</td>\n",
       "      <td>NaN</td>\n",
       "      <td>NaN</td>\n",
       "    </tr>\n",
       "    <tr>\n",
       "      <th>371</th>\n",
       "      <td>NaN</td>\n",
       "      <td>NaN</td>\n",
       "      <td>NaN</td>\n",
       "      <td>NaN</td>\n",
       "      <td>NaN</td>\n",
       "      <td>NaN</td>\n",
       "      <td>NaN</td>\n",
       "    </tr>\n",
       "    <tr>\n",
       "      <th>372</th>\n",
       "      <td>NaN</td>\n",
       "      <td>NaN</td>\n",
       "      <td>NaN</td>\n",
       "      <td>NaN</td>\n",
       "      <td>NaN</td>\n",
       "      <td>NaN</td>\n",
       "      <td>NaN</td>\n",
       "    </tr>\n",
       "    <tr>\n",
       "      <th>754</th>\n",
       "      <td>NaN</td>\n",
       "      <td>NaN</td>\n",
       "      <td>NaN</td>\n",
       "      <td>NaN</td>\n",
       "      <td>NaN</td>\n",
       "      <td>NaN</td>\n",
       "      <td>NaN</td>\n",
       "    </tr>\n",
       "    <tr>\n",
       "      <th>755</th>\n",
       "      <td>NaN</td>\n",
       "      <td>NaN</td>\n",
       "      <td>NaN</td>\n",
       "      <td>NaN</td>\n",
       "      <td>NaN</td>\n",
       "      <td>NaN</td>\n",
       "      <td>NaN</td>\n",
       "    </tr>\n",
       "    <tr>\n",
       "      <th>756</th>\n",
       "      <td>NaN</td>\n",
       "      <td>NaN</td>\n",
       "      <td>NaN</td>\n",
       "      <td>NaN</td>\n",
       "      <td>NaN</td>\n",
       "      <td>NaN</td>\n",
       "      <td>NaN</td>\n",
       "    </tr>\n",
       "    <tr>\n",
       "      <th>757</th>\n",
       "      <td>NaN</td>\n",
       "      <td>NaN</td>\n",
       "      <td>NaN</td>\n",
       "      <td>NaN</td>\n",
       "      <td>NaN</td>\n",
       "      <td>NaN</td>\n",
       "      <td>NaN</td>\n",
       "    </tr>\n",
       "    <tr>\n",
       "      <th>758</th>\n",
       "      <td>NaN</td>\n",
       "      <td>NaN</td>\n",
       "      <td>NaN</td>\n",
       "      <td>NaN</td>\n",
       "      <td>NaN</td>\n",
       "      <td>NaN</td>\n",
       "      <td>NaN</td>\n",
       "    </tr>\n",
       "    <tr>\n",
       "      <th>759</th>\n",
       "      <td>NaN</td>\n",
       "      <td>NaN</td>\n",
       "      <td>NaN</td>\n",
       "      <td>NaN</td>\n",
       "      <td>NaN</td>\n",
       "      <td>NaN</td>\n",
       "      <td>NaN</td>\n",
       "    </tr>\n",
       "    <tr>\n",
       "      <th>760</th>\n",
       "      <td>NaN</td>\n",
       "      <td>NaN</td>\n",
       "      <td>NaN</td>\n",
       "      <td>NaN</td>\n",
       "      <td>NaN</td>\n",
       "      <td>NaN</td>\n",
       "      <td>NaN</td>\n",
       "    </tr>\n",
       "    <tr>\n",
       "      <th>761</th>\n",
       "      <td>NaN</td>\n",
       "      <td>NaN</td>\n",
       "      <td>NaN</td>\n",
       "      <td>NaN</td>\n",
       "      <td>NaN</td>\n",
       "      <td>NaN</td>\n",
       "      <td>NaN</td>\n",
       "    </tr>\n",
       "    <tr>\n",
       "      <th>762</th>\n",
       "      <td>NaN</td>\n",
       "      <td>NaN</td>\n",
       "      <td>NaN</td>\n",
       "      <td>NaN</td>\n",
       "      <td>NaN</td>\n",
       "      <td>NaN</td>\n",
       "      <td>NaN</td>\n",
       "    </tr>\n",
       "    <tr>\n",
       "      <th>763</th>\n",
       "      <td>NaN</td>\n",
       "      <td>NaN</td>\n",
       "      <td>NaN</td>\n",
       "      <td>NaN</td>\n",
       "      <td>NaN</td>\n",
       "      <td>NaN</td>\n",
       "      <td>NaN</td>\n",
       "    </tr>\n",
       "    <tr>\n",
       "      <th>764</th>\n",
       "      <td>NaN</td>\n",
       "      <td>NaN</td>\n",
       "      <td>NaN</td>\n",
       "      <td>NaN</td>\n",
       "      <td>NaN</td>\n",
       "      <td>NaN</td>\n",
       "      <td>NaN</td>\n",
       "    </tr>\n",
       "    <tr>\n",
       "      <th>765</th>\n",
       "      <td>NaN</td>\n",
       "      <td>NaN</td>\n",
       "      <td>NaN</td>\n",
       "      <td>NaN</td>\n",
       "      <td>NaN</td>\n",
       "      <td>NaN</td>\n",
       "      <td>NaN</td>\n",
       "    </tr>\n",
       "    <tr>\n",
       "      <th>766</th>\n",
       "      <td>NaN</td>\n",
       "      <td>NaN</td>\n",
       "      <td>NaN</td>\n",
       "      <td>NaN</td>\n",
       "      <td>NaN</td>\n",
       "      <td>NaN</td>\n",
       "      <td>NaN</td>\n",
       "    </tr>\n",
       "    <tr>\n",
       "      <th>767</th>\n",
       "      <td>NaN</td>\n",
       "      <td>NaN</td>\n",
       "      <td>NaN</td>\n",
       "      <td>NaN</td>\n",
       "      <td>NaN</td>\n",
       "      <td>NaN</td>\n",
       "      <td>NaN</td>\n",
       "    </tr>\n",
       "  </tbody>\n",
       "</table>\n",
       "</div>"
      ],
      "text/plain": [
       "    Region  Date  Frequency   Estimated Unemployment Rate (%)  \\\n",
       "359    NaN   NaN        NaN                               NaN   \n",
       "360    NaN   NaN        NaN                               NaN   \n",
       "361    NaN   NaN        NaN                               NaN   \n",
       "362    NaN   NaN        NaN                               NaN   \n",
       "363    NaN   NaN        NaN                               NaN   \n",
       "364    NaN   NaN        NaN                               NaN   \n",
       "365    NaN   NaN        NaN                               NaN   \n",
       "366    NaN   NaN        NaN                               NaN   \n",
       "367    NaN   NaN        NaN                               NaN   \n",
       "368    NaN   NaN        NaN                               NaN   \n",
       "369    NaN   NaN        NaN                               NaN   \n",
       "370    NaN   NaN        NaN                               NaN   \n",
       "371    NaN   NaN        NaN                               NaN   \n",
       "372    NaN   NaN        NaN                               NaN   \n",
       "754    NaN   NaN        NaN                               NaN   \n",
       "755    NaN   NaN        NaN                               NaN   \n",
       "756    NaN   NaN        NaN                               NaN   \n",
       "757    NaN   NaN        NaN                               NaN   \n",
       "758    NaN   NaN        NaN                               NaN   \n",
       "759    NaN   NaN        NaN                               NaN   \n",
       "760    NaN   NaN        NaN                               NaN   \n",
       "761    NaN   NaN        NaN                               NaN   \n",
       "762    NaN   NaN        NaN                               NaN   \n",
       "763    NaN   NaN        NaN                               NaN   \n",
       "764    NaN   NaN        NaN                               NaN   \n",
       "765    NaN   NaN        NaN                               NaN   \n",
       "766    NaN   NaN        NaN                               NaN   \n",
       "767    NaN   NaN        NaN                               NaN   \n",
       "\n",
       "      Estimated Employed   Estimated Labour Participation Rate (%) Area  \n",
       "359                  NaN                                       NaN  NaN  \n",
       "360                  NaN                                       NaN  NaN  \n",
       "361                  NaN                                       NaN  NaN  \n",
       "362                  NaN                                       NaN  NaN  \n",
       "363                  NaN                                       NaN  NaN  \n",
       "364                  NaN                                       NaN  NaN  \n",
       "365                  NaN                                       NaN  NaN  \n",
       "366                  NaN                                       NaN  NaN  \n",
       "367                  NaN                                       NaN  NaN  \n",
       "368                  NaN                                       NaN  NaN  \n",
       "369                  NaN                                       NaN  NaN  \n",
       "370                  NaN                                       NaN  NaN  \n",
       "371                  NaN                                       NaN  NaN  \n",
       "372                  NaN                                       NaN  NaN  \n",
       "754                  NaN                                       NaN  NaN  \n",
       "755                  NaN                                       NaN  NaN  \n",
       "756                  NaN                                       NaN  NaN  \n",
       "757                  NaN                                       NaN  NaN  \n",
       "758                  NaN                                       NaN  NaN  \n",
       "759                  NaN                                       NaN  NaN  \n",
       "760                  NaN                                       NaN  NaN  \n",
       "761                  NaN                                       NaN  NaN  \n",
       "762                  NaN                                       NaN  NaN  \n",
       "763                  NaN                                       NaN  NaN  \n",
       "764                  NaN                                       NaN  NaN  \n",
       "765                  NaN                                       NaN  NaN  \n",
       "766                  NaN                                       NaN  NaN  \n",
       "767                  NaN                                       NaN  NaN  "
      ]
     },
     "execution_count": 8,
     "metadata": {},
     "output_type": "execute_result"
    }
   ],
   "source": [
    "#Displaying the data with null values \n",
    "data[data.isna().any(axis=1)]"
   ]
  },
  {
   "cell_type": "markdown",
   "id": "c5bab093",
   "metadata": {},
   "source": [
    "# Removing the rows with missing values "
   ]
  },
  {
   "cell_type": "code",
   "execution_count": 9,
   "id": "dd6419263266e56",
   "metadata": {
    "ExecuteTime": {
     "end_time": "2023-09-06T12:56:11.372150300Z",
     "start_time": "2023-09-06T12:56:11.326595100Z"
    }
   },
   "outputs": [],
   "source": [
    "# removing rows with null values \n",
    "data.dropna(axis=0, how ='all',inplace=True)"
   ]
  },
  {
   "cell_type": "markdown",
   "id": "83a0f66c",
   "metadata": {},
   "source": [
    "# Displaying the missing total number of missing value after removal process"
   ]
  },
  {
   "cell_type": "code",
   "execution_count": 11,
   "id": "f731be32ac5ccc35",
   "metadata": {
    "ExecuteTime": {
     "end_time": "2023-09-06T12:56:06.470616100Z",
     "start_time": "2023-09-06T12:56:06.431679300Z"
    }
   },
   "outputs": [
    {
     "data": {
      "text/plain": [
       "Region                                      0\n",
       " Date                                       0\n",
       " Frequency                                  0\n",
       " Estimated Unemployment Rate (%)            0\n",
       " Estimated Employed                         0\n",
       " Estimated Labour Participation Rate (%)    0\n",
       "Area                                        0\n",
       "dtype: int64"
      ]
     },
     "execution_count": 11,
     "metadata": {},
     "output_type": "execute_result"
    }
   ],
   "source": [
    "#After removing the rows with null values \n",
    "data.isna().sum()"
   ]
  },
  {
   "cell_type": "code",
   "execution_count": null,
   "id": "4ffb5671",
   "metadata": {},
   "outputs": [],
   "source": []
  },
  {
   "cell_type": "markdown",
   "id": "a4424861",
   "metadata": {},
   "source": [
    "# Average Unemployment Rate based on the Region of India "
   ]
  },
  {
   "cell_type": "markdown",
   "id": "8991b0a7",
   "metadata": {
    "ExecuteTime": {
     "end_time": "2023-09-06T12:56:03.927806600Z",
     "start_time": "2023-09-06T12:56:03.901870Z"
    }
   },
   "source": []
  },
  {
   "cell_type": "code",
   "execution_count": 12,
   "id": "d6027545",
   "metadata": {},
   "outputs": [
    {
     "name": "stdout",
     "output_type": "stream",
     "text": [
      "Region\n",
      "Andhra Pradesh       7.477143\n",
      "Assam                6.428077\n",
      "Bihar               18.918214\n",
      "Chandigarh          15.991667\n",
      "Chhattisgarh         9.240357\n",
      "Delhi               16.495357\n",
      "Goa                  9.274167\n",
      "Gujarat              6.663929\n",
      "Haryana             26.283214\n",
      "Himachal Pradesh    18.540357\n",
      "Jammu & Kashmir     16.188571\n",
      "Jharkhand           20.585000\n",
      "Karnataka            6.676071\n",
      "Kerala              10.123929\n",
      "Madhya Pradesh       7.406429\n",
      "Maharashtra          7.557500\n",
      "Meghalaya            4.798889\n",
      "Odisha               5.657857\n",
      "Puducherry          10.215000\n",
      "Punjab              12.031071\n",
      "Rajasthan           14.058214\n",
      "Sikkim               7.249412\n",
      "Tamil Nadu           9.284286\n",
      "Telangana            7.737857\n",
      "Tripura             28.350357\n",
      "Uttar Pradesh       12.551429\n",
      "Uttarakhand          6.582963\n",
      "West Bengal          8.124643\n",
      "Name:  Estimated Unemployment Rate (%), dtype: float64\n"
     ]
    }
   ],
   "source": [
    "mean_region = data.groupby('Region')[' Estimated Unemployment Rate (%)'].mean()\n",
    "print(mean_region)"
   ]
  },
  {
   "cell_type": "code",
   "execution_count": 13,
   "id": "aa0a0936",
   "metadata": {},
   "outputs": [
    {
     "data": {
      "text/plain": [
       "(0.0, 35.0)"
      ]
     },
     "execution_count": 13,
     "metadata": {},
     "output_type": "execute_result"
    },
    {
     "data": {
      "image/png": "[encoded data removed]",
      "text/plain": [
       "<Figure size 1400x700 with 1 Axes>"
      ]
     },
     "metadata": {},
     "output_type": "display_data"
    }
   ],
   "source": [
    "plt.figure(figsize=(14,7))\n",
    "mean_region.plot(kind='bar')\n",
    "plt.ylim(0,35)"
   ]
  },
  {
   "cell_type": "markdown",
   "id": "07a2c1c2",
   "metadata": {},
   "source": [
    "# Average unemployment Rate based on type of Are"
   ]
  },
  {
   "cell_type": "code",
   "execution_count": 14,
   "id": "b6b07290",
   "metadata": {},
   "outputs": [
    {
     "name": "stdout",
     "output_type": "stream",
     "text": [
      "Area\n",
      "Rural    10.324791\n",
      "Urban    13.166614\n",
      "Name:  Estimated Unemployment Rate (%), dtype: float64\n"
     ]
    }
   ],
   "source": [
    "mean_area = data.groupby('Area')[' Estimated Unemployment Rate (%)'].mean()\n",
    "print(mean_area)"
   ]
  },
  {
   "cell_type": "code",
   "execution_count": 15,
   "id": "e986458826023dd5",
   "metadata": {
    "ExecuteTime": {
     "end_time": "2023-09-06T12:55:56.234290Z",
     "start_time": "2023-09-06T12:55:56.196390Z"
    }
   },
   "outputs": [
    {
     "data": {
      "text/plain": [
       "Text(0, 0.5, 'Estimated Unemployment Rate (%)')"
      ]
     },
     "execution_count": 15,
     "metadata": {},
     "output_type": "execute_result"
    },
    {
     "data": {
      "image/png": "[encoded data removed]",
      "text/plain": [
       "<Figure size 900x700 with 1 Axes>"
      ]
     },
     "metadata": {},
     "output_type": "display_data"
    }
   ],
   "source": [
    "plt.figure(figsize=(9,7))\n",
    "mean_area.plot(kind=\"bar\")\n",
    "plt.ylabel('Estimated Unemployment Rate (%)')\n"
   ]
  },
  {
   "cell_type": "markdown",
   "id": "f55f130c",
   "metadata": {
    "ExecuteTime": {
     "end_time": "2023-09-06T12:56:01.167685800Z",
     "start_time": "2023-09-06T12:56:01.114970900Z"
    }
   },
   "source": []
  },
  {
   "cell_type": "code",
   "execution_count": null,
   "id": "19aa213411c07235",
   "metadata": {},
   "outputs": [],
   "source": []
  },
  {
   "cell_type": "code",
   "execution_count": null,
   "id": "acceb89a",
   "metadata": {},
   "outputs": [],
   "source": []
  },
  {
   "cell_type": "code",
   "execution_count": null,
   "id": "65afe381",
   "metadata": {},
   "outputs": [],
   "source": []
  },
  {
   "cell_type": "code",
   "execution_count": null,
   "id": "d9e4b047",
   "metadata": {},
   "outputs": [],
   "source": []
  },
  {
   "cell_type": "code",
   "execution_count": null,
   "id": "0ba40f2d",
   "metadata": {},
   "outputs": [],
   "source": []
  },
  {
   "cell_type": "code",
   "execution_count": null,
   "id": "335568e3",
   "metadata": {},
   "outputs": [],
   "source": []
  }
 ],
 "metadata": {
  "kernelspec": {
   "display_name": "Python 3 (ipykernel)",
   "language": "python",
   "name": "python3"
  },
  "language_info": {
   "codemirror_mode": {
    "name": "ipython",
    "version": 3
   },
   "file_extension": ".py",
   "mimetype": "text/x-python",
   "name": "python",
   "nbconvert_exporter": "python",
   "pygments_lexer": "ipython3",
   "version": "3.9.13"
  }
 },
 "nbformat": 4,
 "nbformat_minor": 5
}
