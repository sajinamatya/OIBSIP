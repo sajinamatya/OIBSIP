{
 "cells": [
  {
   "cell_type": "code",
   "execution_count": 13,
   "id": "af8fb405a94131cc",
   "metadata": {
    "ExecuteTime": {
     "end_time": "2023-09-06T12:42:57.401275700Z",
     "start_time": "2023-09-06T12:42:57.323485200Z"
    }
   },
   "outputs": [],
   "source": [
    "import pandas as pd \n",
    "import matplotlib.pyplot as plt \n",
    "import seaborn as sns \n",
    "import numpy as np \n"
   ]
  },
  {
   "cell_type": "code",
   "execution_count": 14,
   "id": "ed54b611dfa9a1e2",
   "metadata": {
    "ExecuteTime": {
     "end_time": "2023-09-06T12:42:57.476076300Z",
     "start_time": "2023-09-06T12:42:57.343430400Z"
    }
   },
   "outputs": [
    {
     "name": "stdout",
     "output_type": "stream",
     "text": [
      "           Region         Date  Frequency   Estimated Unemployment Rate (%)  \\\n",
      "0  Andhra Pradesh   31-05-2019    Monthly                              3.65   \n",
      "1  Andhra Pradesh   30-06-2019    Monthly                              3.05   \n",
      "2  Andhra Pradesh   31-07-2019    Monthly                              3.75   \n",
      "3  Andhra Pradesh   31-08-2019    Monthly                              3.32   \n",
      "4  Andhra Pradesh   30-09-2019    Monthly                              5.17   \n",
      "\n",
      "    Estimated Employed   Estimated Labour Participation Rate (%)   Area  \n",
      "0           11999139.0                                     43.24  Rural  \n",
      "1           11755881.0                                     42.05  Rural  \n",
      "2           12086707.0                                     43.50  Rural  \n",
      "3           12285693.0                                     43.97  Rural  \n",
      "4           12256762.0                                     44.68  Rural  \n"
     ]
    }
   ],
   "source": [
    "data = pd.read_csv(\"Unemployment.csv\")\n",
    "print(data.head())"
   ]
  },
  {
   "cell_type": "code",
   "execution_count": 15,
   "id": "85f6e19ca69583ba",
   "metadata": {
    "ExecuteTime": {
     "end_time": "2023-09-06T12:42:57.493030200Z",
     "start_time": "2023-09-06T12:42:57.441169500Z"
    }
   },
   "outputs": [
    {
     "name": "stdout",
     "output_type": "stream",
     "text": [
      "    Region  Date  Frequency   Estimated Unemployment Rate (%)  \\\n",
      "763    NaN   NaN        NaN                               NaN   \n",
      "764    NaN   NaN        NaN                               NaN   \n",
      "765    NaN   NaN        NaN                               NaN   \n",
      "766    NaN   NaN        NaN                               NaN   \n",
      "767    NaN   NaN        NaN                               NaN   \n",
      "\n",
      "      Estimated Employed   Estimated Labour Participation Rate (%) Area  \n",
      "763                  NaN                                       NaN  NaN  \n",
      "764                  NaN                                       NaN  NaN  \n",
      "765                  NaN                                       NaN  NaN  \n",
      "766                  NaN                                       NaN  NaN  \n",
      "767                  NaN                                       NaN  NaN  \n"
     ]
    }
   ],
   "source": [
    "print(data.tail())"
   ]
  },
  {
   "cell_type": "code",
   "execution_count": 16,
   "id": "c955a1d820e50a1b",
   "metadata": {
    "ExecuteTime": {
     "end_time": "2023-09-06T12:42:57.599744600Z",
     "start_time": "2023-09-06T12:42:57.487046500Z"
    }
   },
   "outputs": [
    {
     "data": {
      "text/plain": [
       "Region                                       object\n",
       " Date                                        object\n",
       " Frequency                                   object\n",
       " Estimated Unemployment Rate (%)            float64\n",
       " Estimated Employed                         float64\n",
       " Estimated Labour Participation Rate (%)    float64\n",
       "Area                                         object\n",
       "dtype: object"
      ]
     },
     "execution_count": 16,
     "metadata": {},
     "output_type": "execute_result"
    }
   ],
   "source": [
    "data.dtypes"
   ]
  },
  {
   "cell_type": "code",
   "execution_count": 17,
   "id": "a4b7eeac13e59c4",
   "metadata": {
    "ExecuteTime": {
     "end_time": "2023-09-06T12:44:23.246253200Z",
     "start_time": "2023-09-06T12:44:23.214339100Z"
    }
   },
   "outputs": [
    {
     "name": "stdout",
     "output_type": "stream",
     "text": [
      "<class 'pandas.core.frame.DataFrame'>\n",
      "RangeIndex: 768 entries, 0 to 767\n",
      "Data columns (total 7 columns):\n",
      " #   Column                                    Non-Null Count  Dtype  \n",
      "---  ------                                    --------------  -----  \n",
      " 0   Region                                    740 non-null    object \n",
      " 1    Date                                     740 non-null    object \n",
      " 2    Frequency                                740 non-null    object \n",
      " 3    Estimated Unemployment Rate (%)          740 non-null    float64\n",
      " 4    Estimated Employed                       740 non-null    float64\n",
      " 5    Estimated Labour Participation Rate (%)  740 non-null    float64\n",
      " 6   Area                                      740 non-null    object \n",
      "dtypes: float64(3), object(4)\n",
      "memory usage: 42.1+ KB\n"
     ]
    }
   ],
   "source": [
    "data.info()\n"
   ]
  },
  {
   "cell_type": "code",
   "execution_count": 18,
   "id": "f92d58bcc0724f73",
   "metadata": {
    "ExecuteTime": {
     "end_time": "2023-09-06T12:44:29.472598900Z",
     "start_time": "2023-09-06T12:44:29.390817900Z"
    }
   },
   "outputs": [
    {
     "data": {
      "text/html": [
       "<div>\n",
       "<style scoped>\n",
       "    .dataframe tbody tr th:only-of-type {\n",
       "        vertical-align: middle;\n",
       "    }\n",
       "\n",
       "    .dataframe tbody tr th {\n",
       "        vertical-align: top;\n",
       "    }\n",
       "\n",
       "    .dataframe thead th {\n",
       "        text-align: right;\n",
       "    }\n",
       "</style>\n",
       "<table border=\"1\" class=\"dataframe\">\n",
       "  <thead>\n",
       "    <tr style=\"text-align: right;\">\n",
       "      <th></th>\n",
       "      <th>Estimated Unemployment Rate (%)</th>\n",
       "      <th>Estimated Employed</th>\n",
       "      <th>Estimated Labour Participation Rate (%)</th>\n",
       "    </tr>\n",
       "  </thead>\n",
       "  <tbody>\n",
       "    <tr>\n",
       "      <th>count</th>\n",
       "      <td>740.000000</td>\n",
       "      <td>7.400000e+02</td>\n",
       "      <td>740.000000</td>\n",
       "    </tr>\n",
       "    <tr>\n",
       "      <th>mean</th>\n",
       "      <td>11.787946</td>\n",
       "      <td>7.204460e+06</td>\n",
       "      <td>42.630122</td>\n",
       "    </tr>\n",
       "    <tr>\n",
       "      <th>std</th>\n",
       "      <td>10.721298</td>\n",
       "      <td>8.087988e+06</td>\n",
       "      <td>8.111094</td>\n",
       "    </tr>\n",
       "    <tr>\n",
       "      <th>min</th>\n",
       "      <td>0.000000</td>\n",
       "      <td>4.942000e+04</td>\n",
       "      <td>13.330000</td>\n",
       "    </tr>\n",
       "    <tr>\n",
       "      <th>25%</th>\n",
       "      <td>4.657500</td>\n",
       "      <td>1.190404e+06</td>\n",
       "      <td>38.062500</td>\n",
       "    </tr>\n",
       "    <tr>\n",
       "      <th>50%</th>\n",
       "      <td>8.350000</td>\n",
       "      <td>4.744178e+06</td>\n",
       "      <td>41.160000</td>\n",
       "    </tr>\n",
       "    <tr>\n",
       "      <th>75%</th>\n",
       "      <td>15.887500</td>\n",
       "      <td>1.127549e+07</td>\n",
       "      <td>45.505000</td>\n",
       "    </tr>\n",
       "    <tr>\n",
       "      <th>max</th>\n",
       "      <td>76.740000</td>\n",
       "      <td>4.577751e+07</td>\n",
       "      <td>72.570000</td>\n",
       "    </tr>\n",
       "  </tbody>\n",
       "</table>\n",
       "</div>"
      ],
      "text/plain": [
       "        Estimated Unemployment Rate (%)   Estimated Employed  \\\n",
       "count                        740.000000         7.400000e+02   \n",
       "mean                          11.787946         7.204460e+06   \n",
       "std                           10.721298         8.087988e+06   \n",
       "min                            0.000000         4.942000e+04   \n",
       "25%                            4.657500         1.190404e+06   \n",
       "50%                            8.350000         4.744178e+06   \n",
       "75%                           15.887500         1.127549e+07   \n",
       "max                           76.740000         4.577751e+07   \n",
       "\n",
       "        Estimated Labour Participation Rate (%)  \n",
       "count                                740.000000  \n",
       "mean                                  42.630122  \n",
       "std                                    8.111094  \n",
       "min                                   13.330000  \n",
       "25%                                   38.062500  \n",
       "50%                                   41.160000  \n",
       "75%                                   45.505000  \n",
       "max                                   72.570000  "
      ]
     },
     "execution_count": 18,
     "metadata": {},
     "output_type": "execute_result"
    }
   ],
   "source": [
    "data.describe()"
   ]
  },
  {
   "cell_type": "code",
   "execution_count": 19,
   "id": "b13eb048ef67869f",
   "metadata": {
    "ExecuteTime": {
     "end_time": "2023-09-06T12:44:55.468231600Z",
     "start_time": "2023-09-06T12:44:55.433320900Z"
    }
   },
   "outputs": [
    {
     "data": {
      "text/plain": [
       "Region             Date         Frequency   Estimated Unemployment Rate (%)   Estimated Employed   Estimated Labour Participation Rate (%)  Area \n",
       "Andhra Pradesh     29-02-2020   Monthly    5.91                              11723617.0           42.83                                     Rural    1\n",
       "Puducherry         31-10-2019  Monthly     1.17                              312548.0             38.86                                     Urban    1\n",
       "                   31-03-2020  Monthly     0.62                              278851.0             34.12                                     Urban    1\n",
       "                   31-05-2019   Monthly    0.00                              172474.0             43.08                                     Rural    1\n",
       "                               Monthly     1.25                              283905.0             35.71                                     Urban    1\n",
       "                                                                                                                                                    ..\n",
       "Himachal Pradesh   31-05-2020   Monthly    25.64                             1732050.0            42.62                                     Rural    1\n",
       "                               Monthly     50.00                             134868.0             43.55                                     Urban    1\n",
       "                   31-07-2019   Monthly    20.59                             1916824.0            44.91                                     Rural    1\n",
       "                               Monthly     21.51                             235894.0             49.22                                     Urban    1\n",
       "West Bengal        31-12-2019  Monthly     7.24                              11335696.0           45.97                                     Urban    1\n",
       "Length: 740, dtype: int64"
      ]
     },
     "execution_count": 19,
     "metadata": {},
     "output_type": "execute_result"
    }
   ],
   "source": []
  },
  {
   "cell_type": "code",
   "execution_count": 43,
   "id": "184e09b55343b3a8",
   "metadata": {
    "ExecuteTime": {
     "end_time": "2023-09-06T12:57:13.023327700Z",
     "start_time": "2023-09-06T12:57:12.986419500Z"
    }
   },
   "outputs": [
    {
     "data": {
      "text/plain": [
       "Region                                      0\n",
       " Date                                       0\n",
       " Frequency                                  0\n",
       " Estimated Unemployment Rate (%)            0\n",
       " Estimated Employed                         0\n",
       " Estimated Labour Participation Rate (%)    0\n",
       "Area                                        0\n",
       "dtype: int64"
      ]
     },
     "execution_count": 43,
     "metadata": {},
     "output_type": "execute_result"
    }
   ],
   "source": [
    "data.isna().sum()"
   ]
  },
  {
   "cell_type": "code",
   "execution_count": 41,
   "id": "dd6419263266e56",
   "metadata": {
    "ExecuteTime": {
     "end_time": "2023-09-06T12:56:11.372150300Z",
     "start_time": "2023-09-06T12:56:11.326595100Z"
    }
   },
   "outputs": [
    {
     "data": {
      "text/html": [
       "<div>\n",
       "<style scoped>\n",
       "    .dataframe tbody tr th:only-of-type {\n",
       "        vertical-align: middle;\n",
       "    }\n",
       "\n",
       "    .dataframe tbody tr th {\n",
       "        vertical-align: top;\n",
       "    }\n",
       "\n",
       "    .dataframe thead th {\n",
       "        text-align: right;\n",
       "    }\n",
       "</style>\n",
       "<table border=\"1\" class=\"dataframe\">\n",
       "  <thead>\n",
       "    <tr style=\"text-align: right;\">\n",
       "      <th></th>\n",
       "      <th>Region</th>\n",
       "      <th>Date</th>\n",
       "      <th>Frequency</th>\n",
       "      <th>Estimated Unemployment Rate (%)</th>\n",
       "      <th>Estimated Employed</th>\n",
       "      <th>Estimated Labour Participation Rate (%)</th>\n",
       "      <th>Area</th>\n",
       "    </tr>\n",
       "  </thead>\n",
       "  <tbody>\n",
       "  </tbody>\n",
       "</table>\n",
       "</div>"
      ],
      "text/plain": [
       "Empty DataFrame\n",
       "Columns: [Region,  Date,  Frequency,  Estimated Unemployment Rate (%),  Estimated Employed,  Estimated Labour Participation Rate (%), Area]\n",
       "Index: []"
      ]
     },
     "execution_count": 41,
     "metadata": {},
     "output_type": "execute_result"
    }
   ],
   "source": []
  },
  {
   "cell_type": "code",
   "execution_count": 39,
   "id": "f731be32ac5ccc35",
   "metadata": {
    "ExecuteTime": {
     "end_time": "2023-09-06T12:56:06.470616100Z",
     "start_time": "2023-09-06T12:56:06.431679300Z"
    }
   },
   "outputs": [],
   "source": []
  },
  {
   "cell_type": "code",
   "execution_count": 39,
   "id": "bc2123fb69e68778",
   "metadata": {
    "ExecuteTime": {
     "end_time": "2023-09-06T12:56:03.927806600Z",
     "start_time": "2023-09-06T12:56:03.901870Z"
    }
   },
   "outputs": [],
   "source": []
  },
  {
   "cell_type": "code",
   "execution_count": 39,
   "id": "e986458826023dd5",
   "metadata": {
    "ExecuteTime": {
     "end_time": "2023-09-06T12:55:56.234290Z",
     "start_time": "2023-09-06T12:55:56.196390Z"
    }
   },
   "outputs": [],
   "source": []
  },
  {
   "cell_type": "code",
   "execution_count": 39,
   "id": "156466cf1e30d925",
   "metadata": {
    "ExecuteTime": {
     "end_time": "2023-09-06T12:56:01.167685800Z",
     "start_time": "2023-09-06T12:56:01.114970900Z"
    }
   },
   "outputs": [],
   "source": []
  },
  {
   "cell_type": "code",
   "execution_count": null,
   "id": "19aa213411c07235",
   "metadata": {},
   "outputs": [],
   "source": []
  }
 ],
 "metadata": {
  "kernelspec": {
   "display_name": "Python 3 (ipykernel)",
   "language": "python",
   "name": "python3"
  },
  "language_info": {
   "codemirror_mode": {
    "name": "ipython",
    "version": 3
   },
   "file_extension": ".py",
   "mimetype": "text/x-python",
   "name": "python",
   "nbconvert_exporter": "python",
   "pygments_lexer": "ipython3",
   "version": "3.9.13"
  }
 },
 "nbformat": 4,
 "nbformat_minor": 5
}
